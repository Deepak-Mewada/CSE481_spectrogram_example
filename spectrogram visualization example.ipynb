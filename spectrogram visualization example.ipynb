{
 "cells": [
  {
   "cell_type": "code",
   "execution_count": 1,
   "metadata": {},
   "outputs": [],
   "source": [
    "import matplotlib.pyplot as plt\n",
    "import altair as alt\n",
    "\n",
    "import pandas as pd\n",
    "import numpy as np\n",
    "import os\n",
    "\n",
    "from mne.time_frequency import read_tfrs\n",
    "\n",
    "from data_utils import diff_specs"
   ]
  },
  {
   "cell_type": "code",
   "execution_count": 2,
   "metadata": {},
   "outputs": [],
   "source": [
    "sp = '/home/zsteineh/CSE481_spectrogram_example/'\n",
    "data_lp = '/data1/users/stepeter/htnet_generalized_data/eeg_dataset/'"
   ]
  },
  {
   "cell_type": "code",
   "execution_count": 3,
   "metadata": {},
   "outputs": [
    {
     "name": "stderr",
     "output_type": "stream",
     "text": [
      "\r",
      "  0%|          | 0/15 [00:00<?, ?it/s]"
     ]
    },
    {
     "name": "stdout",
     "output_type": "stream",
     "text": [
      "Determining ROIs\n",
      "ROIs found\n"
     ]
    },
    {
     "name": "stderr",
     "output_type": "stream",
     "text": [
      "100%|██████████| 15/15 [00:01<00:00,  9.51it/s]\n",
      "0it [00:00, ?it/s]"
     ]
    },
    {
     "name": "stdout",
     "output_type": "stream",
     "text": [
      "Data loaded!\n",
      "Not setting metadata\n",
      "Not setting metadata\n",
      "120 matching events found\n",
      "No baseline correction applied\n",
      "0 projection items activated\n",
      "0 bad epochs dropped\n",
      "Computing power...\n",
      "Not setting metadata\n",
      "Power computation complete!\n",
      "Computing power...\n",
      "Not setting metadata\n"
     ]
    },
    {
     "name": "stderr",
     "output_type": "stream",
     "text": [
      "\r",
      "1it [00:06,  6.76s/it]"
     ]
    },
    {
     "name": "stdout",
     "output_type": "stream",
     "text": [
      "Power computation complete!\n",
      "Not setting metadata\n",
      "Not setting metadata\n",
      "120 matching events found\n",
      "No baseline correction applied\n",
      "0 projection items activated\n",
      "0 bad epochs dropped\n",
      "Computing power...\n",
      "Not setting metadata\n",
      "Power computation complete!\n",
      "Computing power...\n",
      "Not setting metadata\n"
     ]
    },
    {
     "name": "stderr",
     "output_type": "stream",
     "text": [
      "\r",
      "2it [00:13,  6.79s/it]"
     ]
    },
    {
     "name": "stdout",
     "output_type": "stream",
     "text": [
      "Power computation complete!\n",
      "Not setting metadata\n",
      "Not setting metadata\n",
      "120 matching events found\n",
      "No baseline correction applied\n",
      "0 projection items activated\n",
      "0 bad epochs dropped\n",
      "Computing power...\n",
      "Not setting metadata\n",
      "Power computation complete!\n",
      "Computing power...\n",
      "Not setting metadata\n"
     ]
    },
    {
     "name": "stderr",
     "output_type": "stream",
     "text": [
      "\r",
      "3it [00:20,  6.64s/it]"
     ]
    },
    {
     "name": "stdout",
     "output_type": "stream",
     "text": [
      "Power computation complete!\n",
      "Not setting metadata\n",
      "Not setting metadata\n",
      "120 matching events found\n",
      "No baseline correction applied\n",
      "0 projection items activated\n",
      "0 bad epochs dropped\n",
      "Computing power...\n",
      "Not setting metadata\n",
      "Power computation complete!\n",
      "Computing power...\n",
      "Not setting metadata\n"
     ]
    },
    {
     "name": "stderr",
     "output_type": "stream",
     "text": [
      "\r",
      "4it [00:26,  6.59s/it]"
     ]
    },
    {
     "name": "stdout",
     "output_type": "stream",
     "text": [
      "Power computation complete!\n",
      "Not setting metadata\n",
      "Not setting metadata\n",
      "120 matching events found\n",
      "No baseline correction applied\n",
      "0 projection items activated\n",
      "0 bad epochs dropped\n",
      "Computing power...\n",
      "Not setting metadata\n",
      "Power computation complete!\n",
      "Computing power...\n",
      "Not setting metadata\n"
     ]
    },
    {
     "name": "stderr",
     "output_type": "stream",
     "text": [
      "\r",
      "5it [00:33,  6.60s/it]"
     ]
    },
    {
     "name": "stdout",
     "output_type": "stream",
     "text": [
      "Power computation complete!\n",
      "Not setting metadata\n",
      "Not setting metadata\n",
      "120 matching events found\n",
      "No baseline correction applied\n",
      "0 projection items activated\n",
      "0 bad epochs dropped\n",
      "Computing power...\n",
      "Not setting metadata\n",
      "Power computation complete!\n",
      "Computing power...\n",
      "Not setting metadata\n"
     ]
    },
    {
     "name": "stderr",
     "output_type": "stream",
     "text": [
      "\r",
      "6it [00:39,  6.57s/it]"
     ]
    },
    {
     "name": "stdout",
     "output_type": "stream",
     "text": [
      "Power computation complete!\n",
      "Not setting metadata\n",
      "Not setting metadata\n",
      "120 matching events found\n",
      "No baseline correction applied\n",
      "0 projection items activated\n",
      "0 bad epochs dropped\n",
      "Computing power...\n",
      "Not setting metadata\n",
      "Power computation complete!\n",
      "Computing power...\n",
      "Not setting metadata\n"
     ]
    },
    {
     "name": "stderr",
     "output_type": "stream",
     "text": [
      "\r",
      "7it [00:46,  6.57s/it]"
     ]
    },
    {
     "name": "stdout",
     "output_type": "stream",
     "text": [
      "Power computation complete!\n",
      "Not setting metadata\n",
      "Not setting metadata\n",
      "120 matching events found\n",
      "No baseline correction applied\n",
      "0 projection items activated\n",
      "0 bad epochs dropped\n",
      "Computing power...\n",
      "Not setting metadata\n",
      "Power computation complete!\n",
      "Computing power...\n",
      "Not setting metadata\n"
     ]
    },
    {
     "name": "stderr",
     "output_type": "stream",
     "text": [
      "\r",
      "8it [00:52,  6.55s/it]"
     ]
    },
    {
     "name": "stdout",
     "output_type": "stream",
     "text": [
      "Power computation complete!\n",
      "Not setting metadata\n",
      "Not setting metadata\n",
      "120 matching events found\n",
      "No baseline correction applied\n",
      "0 projection items activated\n",
      "0 bad epochs dropped\n",
      "Computing power...\n",
      "Not setting metadata\n",
      "Power computation complete!\n",
      "Computing power...\n",
      "Not setting metadata\n"
     ]
    },
    {
     "name": "stderr",
     "output_type": "stream",
     "text": [
      "\r",
      "9it [00:59,  6.56s/it]"
     ]
    },
    {
     "name": "stdout",
     "output_type": "stream",
     "text": [
      "Power computation complete!\n",
      "Not setting metadata\n",
      "Not setting metadata\n",
      "120 matching events found\n",
      "No baseline correction applied\n",
      "0 projection items activated\n",
      "0 bad epochs dropped\n",
      "Computing power...\n",
      "Not setting metadata\n",
      "Power computation complete!\n",
      "Computing power...\n",
      "Not setting metadata\n"
     ]
    },
    {
     "name": "stderr",
     "output_type": "stream",
     "text": [
      "\r",
      "10it [01:05,  6.49s/it]"
     ]
    },
    {
     "name": "stdout",
     "output_type": "stream",
     "text": [
      "Power computation complete!\n",
      "Not setting metadata\n",
      "Not setting metadata\n",
      "120 matching events found\n",
      "No baseline correction applied\n",
      "0 projection items activated\n",
      "0 bad epochs dropped\n",
      "Computing power...\n",
      "Not setting metadata\n",
      "Power computation complete!\n",
      "Computing power...\n",
      "Not setting metadata\n"
     ]
    },
    {
     "name": "stderr",
     "output_type": "stream",
     "text": [
      "\r",
      "11it [01:12,  6.45s/it]"
     ]
    },
    {
     "name": "stdout",
     "output_type": "stream",
     "text": [
      "Power computation complete!\n",
      "Not setting metadata\n",
      "Not setting metadata\n",
      "120 matching events found\n",
      "No baseline correction applied\n",
      "0 projection items activated\n",
      "0 bad epochs dropped\n",
      "Computing power...\n",
      "Not setting metadata\n",
      "Power computation complete!\n",
      "Computing power...\n",
      "Not setting metadata\n"
     ]
    },
    {
     "name": "stderr",
     "output_type": "stream",
     "text": [
      "\r",
      "12it [01:18,  6.49s/it]"
     ]
    },
    {
     "name": "stdout",
     "output_type": "stream",
     "text": [
      "Power computation complete!\n",
      "Not setting metadata\n",
      "Not setting metadata\n",
      "120 matching events found\n",
      "No baseline correction applied\n",
      "0 projection items activated\n",
      "0 bad epochs dropped\n",
      "Computing power...\n",
      "Not setting metadata\n",
      "Power computation complete!\n",
      "Computing power...\n",
      "Not setting metadata\n"
     ]
    },
    {
     "name": "stderr",
     "output_type": "stream",
     "text": [
      "\r",
      "13it [01:25,  6.56s/it]"
     ]
    },
    {
     "name": "stdout",
     "output_type": "stream",
     "text": [
      "Power computation complete!\n",
      "Not setting metadata\n",
      "Not setting metadata\n",
      "120 matching events found\n",
      "No baseline correction applied\n",
      "0 projection items activated\n",
      "0 bad epochs dropped\n",
      "Computing power...\n",
      "Not setting metadata\n",
      "Power computation complete!\n",
      "Computing power...\n",
      "Not setting metadata\n"
     ]
    },
    {
     "name": "stderr",
     "output_type": "stream",
     "text": [
      "\r",
      "14it [01:31,  6.53s/it]"
     ]
    },
    {
     "name": "stdout",
     "output_type": "stream",
     "text": [
      "Power computation complete!\n",
      "Not setting metadata\n",
      "Not setting metadata\n",
      "120 matching events found\n",
      "No baseline correction applied\n",
      "0 projection items activated\n",
      "0 bad epochs dropped\n",
      "Computing power...\n",
      "Not setting metadata\n",
      "Power computation complete!\n",
      "Computing power...\n",
      "Not setting metadata\n"
     ]
    },
    {
     "name": "stderr",
     "output_type": "stream",
     "text": [
      "15it [01:38,  6.54s/it]"
     ]
    },
    {
     "name": "stdout",
     "output_type": "stream",
     "text": [
      "Power computation complete!\n"
     ]
    },
    {
     "name": "stderr",
     "output_type": "stream",
     "text": [
      "\n"
     ]
    },
    {
     "data": {
      "text/plain": [
       "<AverageTFR | time : [-1.100000, 1.100000], freq : [1.000000, 121.000000], nave : 60, channels : 1, ~9 kB>"
      ]
     },
     "execution_count": 3,
     "metadata": {},
     "output_type": "execute_result"
    }
   ],
   "source": [
    "diff_specs(sp, data_lp)"
   ]
  },
  {
   "cell_type": "code",
   "execution_count": 4,
   "metadata": {},
   "outputs": [
    {
     "name": "stdout",
     "output_type": "stream",
     "text": [
      "Reading /home/zsteineh/CSE481_spectrogram_example/sbj_avg_diff_spec_eeg_tfr.h5 ...\n"
     ]
    }
   ],
   "source": [
    "savename = 'diff_spec_eeg_tfr.h5'\n",
    "if os.path.isfile(sp+'sbj_avg_'+savename):\n",
    "    power = read_tfrs(sp+'sbj_avg_'+savename)\n",
    "    power = power[0]"
   ]
  },
  {
   "cell_type": "code",
   "execution_count": 5,
   "metadata": {},
   "outputs": [
    {
     "name": "stdout",
     "output_type": "stream",
     "text": [
      "     Data Type  Time   Freq     Power\n",
      "0    move_rest  -1.1    1.0 -1.361398\n",
      "1    move_rest  -1.1    6.0 -1.472925\n",
      "2    move_rest  -1.1   11.0 -1.098310\n",
      "3    move_rest  -1.1   16.0 -0.614047\n",
      "4    move_rest  -1.1   21.0  0.425325\n",
      "..         ...   ...    ...       ...\n",
      "295  move_rest   1.1  101.0  0.030621\n",
      "296  move_rest   1.1  106.0 -0.079174\n",
      "297  move_rest   1.1  111.0  0.064427\n",
      "298  move_rest   1.1  116.0  0.199660\n",
      "299  move_rest   1.1  121.0  0.422069\n",
      "\n",
      "[300 rows x 4 columns]\n"
     ]
    }
   ],
   "source": [
    "sbj_power = []\n",
    "for t,time_bin in enumerate(power.times):\n",
    "    for f,fre in enumerate(power.freqs):\n",
    "        cur_pow = power.data[0,f,t]\n",
    "        row = ['move_rest', time_bin, fre, cur_pow]\n",
    "        sbj_power.append(row)\n",
    "            \n",
    "avg_sbj_power_df = pd.DataFrame.from_records(sbj_power, columns = ['Data Type', 'Time', 'Freq', 'Power'])\n",
    "print(avg_sbj_power_df)"
   ]
  },
  {
   "cell_type": "code",
   "execution_count": 6,
   "metadata": {},
   "outputs": [
    {
     "data": {
      "image/png": "[encoded data removed]",
      "text/plain": [
       "<Figure size 432x288 with 2 Axes>"
      ]
     },
     "execution_count": 6,
     "metadata": {},
     "output_type": "execute_result"
    },
    {
     "data": {
      "image/png": "[encoded data removed]",
      "text/plain": [
       "<Figure size 432x288 with 2 Axes>"
      ]
     },
     "metadata": {
      "needs_background": "light"
     },
     "output_type": "display_data"
    }
   ],
   "source": [
    "freq_lims = [power.freqs[0],125]\n",
    "epoch_times=[-2.5,2.5]\n",
    "vscale_val=3\n",
    "vscale_val_min = -vscale_val\n",
    "cmap='bwr'\n",
    "\n",
    "power.plot(baseline=None, colorbar=True, title=\"\", \n",
    "                      yscale='linear', tmin=epoch_times[0], tmax=epoch_times[1],\n",
    "                      vmin=vscale_val_min,vmax=vscale_val,cmap=cmap,verbose=False,show=False)"
   ]
  },
  {
   "cell_type": "code",
   "execution_count": 7,
   "metadata": {},
   "outputs": [
    {
     "data": {
      "text/html": [
       "\n",
       "<div id=\"altair-viz-c570a205d77a47109e490568dd6b7c81\"></div>\n",
       "<script type=\"text/javascript\">\n",
       "  (function(spec, embedOpt){\n",
       "    let outputDiv = document.currentScript.previousElementSibling;\n",
       "    if (outputDiv.id !== \"altair-viz-c570a205d77a47109e490568dd6b7c81\") {\n",
       "      outputDiv = document.getElementById(\"altair-viz-c570a205d77a47109e490568dd6b7c81\");\n",
       "    }\n",
       "    const paths = {\n",
       "      \"vega\": \"https://cdn.jsdelivr.net/npm//vega@5?noext\",\n",
       "      \"vega-lib\": \"https://cdn.jsdelivr.net/npm//vega-lib?noext\",\n",
       "      \"vega-lite\": \"https://cdn.jsdelivr.net/npm//vega-lite@4.8.1?noext\",\n",
       "      \"vega-embed\": \"https://cdn.jsdelivr.net/npm//vega-embed@6?noext\",\n",
       "    };\n",
       "\n",
       "    function loadScript(lib) {\n",
       "      return new Promise(function(resolve, reject) {\n",
       "        var s = document.createElement('script');\n",
       "        s.src = paths[lib];\n",
       "        s.async = true;\n",
       "        s.onload = () => resolve(paths[lib]);\n",
       "        s.onerror = () => reject(`Error loading script: ${paths[lib]}`);\n",
       "        document.getElementsByTagName(\"head\")[0].appendChild(s);\n",
       "      });\n",
       "    }\n",
       "\n",
       "    function showError(err) {\n",
       "      outputDiv.innerHTML = `<div class=\"error\" style=\"color:red;\">${err}</div>`;\n",
       "      throw err;\n",
       "    }\n",
       "\n",
       "    function displayChart(vegaEmbed) {\n",
       "      vegaEmbed(outputDiv, spec, embedOpt)\n",
       "        .catch(err => showError(`Javascript Error: ${err.message}<br>This usually means there's a typo in your chart specification. See the javascript console for the full traceback.`));\n",
       "    }\n",
       "\n",
       "    if(typeof define === \"function\" && define.amd) {\n",
       "      requirejs.config({paths});\n",
       "      require([\"vega-embed\"], displayChart, err => showError(`Error loading script: ${err.message}`));\n",
       "    } else if (typeof vegaEmbed === \"function\") {\n",
       "      displayChart(vegaEmbed);\n",
       "    } else {\n",
       "      loadScript(\"vega\")\n",
       "        .then(() => loadScript(\"vega-lite\"))\n",
       "        .then(() => loadScript(\"vega-embed\"))\n",
       "        .catch(showError)\n",
       "        .then(() => displayChart(vegaEmbed));\n",
       "    }\n",
       "  })({\"config\": {\"view\": {\"continuousWidth\": 400, \"continuousHeight\": 300}}, \"layer\": [{\"data\": {\"name\": \"data-b59904d426b63d53b3293059a499c75e\"}, \"mark\": \"rect\", \"encoding\": {\"color\": {\"type\": \"quantitative\", \"field\": \"Power\", \"scale\": {\"domain\": [-3, 3], \"scheme\": \"redblue\"}, \"sort\": \"descending\"}, \"x\": {\"type\": \"ordinal\", \"field\": \"Time\", \"title\": \"Time (s)\"}, \"y\": {\"type\": \"ordinal\", \"axis\": null, \"field\": \"Freq\", \"sort\": \"descending\", \"title\": \"\"}}, \"height\": 350, \"title\": [\"Spectrogram of Brain Activity During Movement\", \"Averaged Across Participants\"], \"width\": 400}, {\"data\": {\"name\": \"data-fef468f6e7897979a81eb183ce12f38a\"}, \"mark\": {\"type\": \"line\", \"color\": \"black\", \"strokeDash\": [10, 10]}, \"encoding\": {\"x\": {\"type\": \"quantitative\", \"axis\": {\"labels\": false}, \"field\": \"x\", \"title\": \"movement initation\"}, \"y\": {\"type\": \"quantitative\", \"axis\": {\"orient\": \"left\", \"tickCount\": 6}, \"field\": \"Freq\", \"title\": \"Frequency (Hz)\"}}, \"height\": 350, \"width\": 400}], \"$schema\": \"https://vega.github.io/schema/vega-lite/v4.8.1.json\", \"datasets\": {\"data-b59904d426b63d53b3293059a499c75e\": [{\"Data Type\": \"move_rest\", \"Time\": -1.1, \"Freq\": 1.0, \"Power\": -1.3613983458136545}, {\"Data Type\": \"move_rest\", \"Time\": -1.1, \"Freq\": 6.0, \"Power\": -1.472925459422559}, {\"Data Type\": \"move_rest\", \"Time\": -1.1, \"Freq\": 11.0, \"Power\": -1.0983103948378945}, {\"Data Type\": \"move_rest\", \"Time\": -1.1, \"Freq\": 16.0, \"Power\": -0.6140473638989211}, {\"Data Type\": \"move_rest\", \"Time\": -1.1, \"Freq\": 21.0, \"Power\": 0.42532481800369054}, {\"Data Type\": \"move_rest\", \"Time\": -1.1, \"Freq\": 26.0, \"Power\": 0.011993514116460347}, {\"Data Type\": \"move_rest\", \"Time\": -1.1, \"Freq\": 31.0, \"Power\": -0.31608603230302684}, {\"Data Type\": \"move_rest\", \"Time\": -1.1, \"Freq\": 36.0, \"Power\": 0.077242545760393}, {\"Data Type\": \"move_rest\", \"Time\": -1.1, \"Freq\": 41.0, \"Power\": -0.14447639388257963}, {\"Data Type\": \"move_rest\", \"Time\": -1.1, \"Freq\": 46.0, \"Power\": -0.4612770056377144}, {\"Data Type\": \"move_rest\", \"Time\": -1.1, \"Freq\": 51.0, \"Power\": -0.6680755288481056}, {\"Data Type\": \"move_rest\", \"Time\": -1.1, \"Freq\": 56.0, \"Power\": -0.621065474445884}, {\"Data Type\": \"move_rest\", \"Time\": -1.1, \"Freq\": 61.0, \"Power\": -0.17281219167693868}, {\"Data Type\": \"move_rest\", \"Time\": -1.1, \"Freq\": 66.0, \"Power\": -0.2807346404434573}, {\"Data Type\": \"move_rest\", \"Time\": -1.1, \"Freq\": 71.0, \"Power\": -0.16084027295615613}, {\"Data Type\": \"move_rest\", \"Time\": -1.1, \"Freq\": 76.0, \"Power\": -0.4677733083192616}, {\"Data Type\": \"move_rest\", \"Time\": -1.1, \"Freq\": 81.0, \"Power\": -0.09245812375294804}, {\"Data Type\": \"move_rest\", \"Time\": -1.1, \"Freq\": 86.0, \"Power\": -0.35993362481010915}, {\"Data Type\": \"move_rest\", \"Time\": -1.1, \"Freq\": 91.0, \"Power\": -0.2541040501058821}, {\"Data Type\": \"move_rest\", \"Time\": -1.1, \"Freq\": 96.0, \"Power\": -0.08489819657095457}, {\"Data Type\": \"move_rest\", \"Time\": -1.1, \"Freq\": 101.0, \"Power\": -0.11588136506044577}, {\"Data Type\": \"move_rest\", \"Time\": -1.1, \"Freq\": 106.0, \"Power\": 0.020460057972432347}, {\"Data Type\": \"move_rest\", \"Time\": -1.1, \"Freq\": 111.0, \"Power\": -0.10587156010704651}, {\"Data Type\": \"move_rest\", \"Time\": -1.1, \"Freq\": 116.0, \"Power\": -0.5668630438474793}, {\"Data Type\": \"move_rest\", \"Time\": -1.1, \"Freq\": 121.0, \"Power\": -0.2034841792534299}, {\"Data Type\": \"move_rest\", \"Time\": -0.9, \"Freq\": 1.0, \"Power\": -3.0885689853519844}, {\"Data Type\": \"move_rest\", \"Time\": -0.9, \"Freq\": 6.0, \"Power\": -2.2852597581291376}, {\"Data Type\": \"move_rest\", \"Time\": -0.9, \"Freq\": 11.0, \"Power\": -0.6420956213609751}, {\"Data Type\": \"move_rest\", \"Time\": -0.9, \"Freq\": 16.0, \"Power\": 0.41188812274508374}, {\"Data Type\": \"move_rest\", \"Time\": -0.9, \"Freq\": 21.0, \"Power\": 0.6042135384558075}, {\"Data Type\": \"move_rest\", \"Time\": -0.9, \"Freq\": 26.0, \"Power\": 0.4824965570225667}, {\"Data Type\": \"move_rest\", \"Time\": -0.9, \"Freq\": 31.0, \"Power\": 0.28914878790467263}, {\"Data Type\": \"move_rest\", \"Time\": -0.9, \"Freq\": 36.0, \"Power\": -0.30716670059889284}, {\"Data Type\": \"move_rest\", \"Time\": -0.9, \"Freq\": 41.0, \"Power\": -0.7037006924592873}, {\"Data Type\": \"move_rest\", \"Time\": -0.9, \"Freq\": 46.0, \"Power\": -0.9103188204173535}, {\"Data Type\": \"move_rest\", \"Time\": -0.9, \"Freq\": 51.0, \"Power\": -0.689004650273201}, {\"Data Type\": \"move_rest\", \"Time\": -0.9, \"Freq\": 56.0, \"Power\": -0.6208769271135149}, {\"Data Type\": \"move_rest\", \"Time\": -0.9, \"Freq\": 61.0, \"Power\": -0.7779918260618037}, {\"Data Type\": \"move_rest\", \"Time\": -0.9, \"Freq\": 66.0, \"Power\": -0.6921530900061375}, {\"Data Type\": \"move_rest\", \"Time\": -0.9, \"Freq\": 71.0, \"Power\": 0.04098848345191281}, {\"Data Type\": \"move_rest\", \"Time\": -0.9, \"Freq\": 76.0, \"Power\": -0.15140360558668248}, {\"Data Type\": \"move_rest\", \"Time\": -0.9, \"Freq\": 81.0, \"Power\": -0.5086081149657986}, {\"Data Type\": \"move_rest\", \"Time\": -0.9, \"Freq\": 86.0, \"Power\": -0.3296944291254713}, {\"Data Type\": \"move_rest\", \"Time\": -0.9, \"Freq\": 91.0, \"Power\": -0.6121360974865259}, {\"Data Type\": \"move_rest\", \"Time\": -0.9, \"Freq\": 96.0, \"Power\": -0.06470683857176217}, {\"Data Type\": \"move_rest\", \"Time\": -0.9, \"Freq\": 101.0, \"Power\": -0.23891243030267237}, {\"Data Type\": \"move_rest\", \"Time\": -0.9, \"Freq\": 106.0, \"Power\": -0.09648845987908317}, {\"Data Type\": \"move_rest\", \"Time\": -0.9, \"Freq\": 111.0, \"Power\": -0.2930701702505312}, {\"Data Type\": \"move_rest\", \"Time\": -0.9, \"Freq\": 116.0, \"Power\": 0.10945604624582757}, {\"Data Type\": \"move_rest\", \"Time\": -0.9, \"Freq\": 121.0, \"Power\": 0.23631237713597292}, {\"Data Type\": \"move_rest\", \"Time\": -0.7, \"Freq\": 1.0, \"Power\": -1.2646438862473797}, {\"Data Type\": \"move_rest\", \"Time\": -0.7, \"Freq\": 6.0, \"Power\": -0.24466815993574376}, {\"Data Type\": \"move_rest\", \"Time\": -0.7, \"Freq\": 11.0, \"Power\": 1.134902116467856}, {\"Data Type\": \"move_rest\", \"Time\": -0.7, \"Freq\": 16.0, \"Power\": 0.7404816484484816}, {\"Data Type\": \"move_rest\", \"Time\": -0.7, \"Freq\": 21.0, \"Power\": 0.4530977752607896}, {\"Data Type\": \"move_rest\", \"Time\": -0.7, \"Freq\": 26.0, \"Power\": 0.263802599436237}, {\"Data Type\": \"move_rest\", \"Time\": -0.7, \"Freq\": 31.0, \"Power\": 0.16184212966238362}, {\"Data Type\": \"move_rest\", \"Time\": -0.7, \"Freq\": 36.0, \"Power\": 0.6506257871115717}, {\"Data Type\": \"move_rest\", \"Time\": -0.7, \"Freq\": 41.0, \"Power\": 0.16001208722605137}, {\"Data Type\": \"move_rest\", \"Time\": -0.7, \"Freq\": 46.0, \"Power\": 0.17831738356307103}, {\"Data Type\": \"move_rest\", \"Time\": -0.7, \"Freq\": 51.0, \"Power\": -0.23185406639870318}, {\"Data Type\": \"move_rest\", \"Time\": -0.7, \"Freq\": 56.0, \"Power\": -0.012199547029184524}, {\"Data Type\": \"move_rest\", \"Time\": -0.7, \"Freq\": 61.0, \"Power\": -0.27810112580694596}, {\"Data Type\": \"move_rest\", \"Time\": -0.7, \"Freq\": 66.0, \"Power\": 0.12896122315408717}, {\"Data Type\": \"move_rest\", \"Time\": -0.7, \"Freq\": 71.0, \"Power\": -0.03206229892075877}, {\"Data Type\": \"move_rest\", \"Time\": -0.7, \"Freq\": 76.0, \"Power\": 0.2244422781870791}, {\"Data Type\": \"move_rest\", \"Time\": -0.7, \"Freq\": 81.0, \"Power\": 0.29247177985956035}, {\"Data Type\": \"move_rest\", \"Time\": -0.7, \"Freq\": 86.0, \"Power\": -0.387133188962603}, {\"Data Type\": \"move_rest\", \"Time\": -0.7, \"Freq\": 91.0, \"Power\": -0.566720545373919}, {\"Data Type\": \"move_rest\", \"Time\": -0.7, \"Freq\": 96.0, \"Power\": -0.07156436454748226}, {\"Data Type\": \"move_rest\", \"Time\": -0.7, \"Freq\": 101.0, \"Power\": -0.21267259712101633}, {\"Data Type\": \"move_rest\", \"Time\": -0.7, \"Freq\": 106.0, \"Power\": -0.22504925595333514}, {\"Data Type\": \"move_rest\", \"Time\": -0.7, \"Freq\": 111.0, \"Power\": 0.09200350510403912}, {\"Data Type\": \"move_rest\", \"Time\": -0.7, \"Freq\": 116.0, \"Power\": -0.2392454123668576}, {\"Data Type\": \"move_rest\", \"Time\": -0.7, \"Freq\": 121.0, \"Power\": 0.440001453799843}, {\"Data Type\": \"move_rest\", \"Time\": -0.5, \"Freq\": 1.0, \"Power\": -0.6045556395411287}, {\"Data Type\": \"move_rest\", \"Time\": -0.5, \"Freq\": 6.0, \"Power\": 0.22285367027344402}, {\"Data Type\": \"move_rest\", \"Time\": -0.5, \"Freq\": 11.0, \"Power\": 0.7270951148181078}, {\"Data Type\": \"move_rest\", \"Time\": -0.5, \"Freq\": 16.0, \"Power\": -0.15746071649282384}, {\"Data Type\": \"move_rest\", \"Time\": -0.5, \"Freq\": 21.0, \"Power\": -0.5166600113609945}, {\"Data Type\": \"move_rest\", \"Time\": -0.5, \"Freq\": 26.0, \"Power\": -0.33090130036388243}, {\"Data Type\": \"move_rest\", \"Time\": -0.5, \"Freq\": 31.0, \"Power\": -0.407833217378455}, {\"Data Type\": \"move_rest\", \"Time\": -0.5, \"Freq\": 36.0, \"Power\": -0.11028943453542013}, {\"Data Type\": \"move_rest\", \"Time\": -0.5, \"Freq\": 41.0, \"Power\": -0.605951197955947}, {\"Data Type\": \"move_rest\", \"Time\": -0.5, \"Freq\": 46.0, \"Power\": -0.2261627704129334}, {\"Data Type\": \"move_rest\", \"Time\": -0.5, \"Freq\": 51.0, \"Power\": -0.24649447111695982}, {\"Data Type\": \"move_rest\", \"Time\": -0.5, \"Freq\": 56.0, \"Power\": -0.415119050129537}, {\"Data Type\": \"move_rest\", \"Time\": -0.5, \"Freq\": 61.0, \"Power\": -0.2134727931873556}, {\"Data Type\": \"move_rest\", \"Time\": -0.5, \"Freq\": 66.0, \"Power\": -0.31727385083197535}, {\"Data Type\": \"move_rest\", \"Time\": -0.5, \"Freq\": 71.0, \"Power\": -0.24202112699201925}, {\"Data Type\": \"move_rest\", \"Time\": -0.5, \"Freq\": 76.0, \"Power\": -0.021321406713192916}, {\"Data Type\": \"move_rest\", \"Time\": -0.5, \"Freq\": 81.0, \"Power\": -0.20031365911272683}, {\"Data Type\": \"move_rest\", \"Time\": -0.5, \"Freq\": 86.0, \"Power\": 0.026378714104395348}, {\"Data Type\": \"move_rest\", \"Time\": -0.5, \"Freq\": 91.0, \"Power\": -0.3565943258545133}, {\"Data Type\": \"move_rest\", \"Time\": -0.5, \"Freq\": 96.0, \"Power\": -0.2968323248698198}, {\"Data Type\": \"move_rest\", \"Time\": -0.5, \"Freq\": 101.0, \"Power\": 0.08553459583045253}, {\"Data Type\": \"move_rest\", \"Time\": -0.5, \"Freq\": 106.0, \"Power\": -0.26530171590844326}, {\"Data Type\": \"move_rest\", \"Time\": -0.5, \"Freq\": 111.0, \"Power\": 0.1430760322880398}, {\"Data Type\": \"move_rest\", \"Time\": -0.5, \"Freq\": 116.0, \"Power\": -0.2620188223614823}, {\"Data Type\": \"move_rest\", \"Time\": -0.5, \"Freq\": 121.0, \"Power\": -0.44267098458951465}, {\"Data Type\": \"move_rest\", \"Time\": -0.3, \"Freq\": 1.0, \"Power\": 0.6079609655354811}, {\"Data Type\": \"move_rest\", \"Time\": -0.3, \"Freq\": 6.0, \"Power\": 0.535253283279468}, {\"Data Type\": \"move_rest\", \"Time\": -0.3, \"Freq\": 11.0, \"Power\": 0.23480714982429163}, {\"Data Type\": \"move_rest\", \"Time\": -0.3, \"Freq\": 16.0, \"Power\": -0.5999985381020697}, {\"Data Type\": \"move_rest\", \"Time\": -0.3, \"Freq\": 21.0, \"Power\": -1.076752879976353}, {\"Data Type\": \"move_rest\", \"Time\": -0.3, \"Freq\": 26.0, \"Power\": -1.0908403316643671}, {\"Data Type\": \"move_rest\", \"Time\": -0.3, \"Freq\": 31.0, \"Power\": -0.735324162317239}, {\"Data Type\": \"move_rest\", \"Time\": -0.3, \"Freq\": 36.0, \"Power\": -0.5130598899094839}, {\"Data Type\": \"move_rest\", \"Time\": -0.3, \"Freq\": 41.0, \"Power\": -0.5354629343402147}, {\"Data Type\": \"move_rest\", \"Time\": -0.3, \"Freq\": 46.0, \"Power\": -0.2927048800954329}, {\"Data Type\": \"move_rest\", \"Time\": -0.3, \"Freq\": 51.0, \"Power\": -0.4282491749742794}, {\"Data Type\": \"move_rest\", \"Time\": -0.3, \"Freq\": 56.0, \"Power\": -0.6476436102002414}, {\"Data Type\": \"move_rest\", \"Time\": -0.3, \"Freq\": 61.0, \"Power\": -0.47009536901674287}, {\"Data Type\": \"move_rest\", \"Time\": -0.3, \"Freq\": 66.0, \"Power\": -0.12953997746810916}, {\"Data Type\": \"move_rest\", \"Time\": -0.3, \"Freq\": 71.0, \"Power\": 0.10488265081201291}, {\"Data Type\": \"move_rest\", \"Time\": -0.3, \"Freq\": 76.0, \"Power\": -0.06295056768933117}, {\"Data Type\": \"move_rest\", \"Time\": -0.3, \"Freq\": 81.0, \"Power\": -0.6454643895641046}, {\"Data Type\": \"move_rest\", \"Time\": -0.3, \"Freq\": 86.0, \"Power\": 0.8519638981609593}, {\"Data Type\": \"move_rest\", \"Time\": -0.3, \"Freq\": 91.0, \"Power\": 0.5061516061055538}, {\"Data Type\": \"move_rest\", \"Time\": -0.3, \"Freq\": 96.0, \"Power\": -0.052080912739786336}, {\"Data Type\": \"move_rest\", \"Time\": -0.3, \"Freq\": 101.0, \"Power\": 0.019698575439590135}, {\"Data Type\": \"move_rest\", \"Time\": -0.3, \"Freq\": 106.0, \"Power\": 0.15329848803711552}, {\"Data Type\": \"move_rest\", \"Time\": -0.3, \"Freq\": 111.0, \"Power\": 0.25867193951075457}, {\"Data Type\": \"move_rest\", \"Time\": -0.3, \"Freq\": 116.0, \"Power\": -0.15866526552813223}, {\"Data Type\": \"move_rest\", \"Time\": -0.3, \"Freq\": 121.0, \"Power\": -0.2208053555927762}, {\"Data Type\": \"move_rest\", \"Time\": -0.1, \"Freq\": 1.0, \"Power\": 1.1298132009938116}, {\"Data Type\": \"move_rest\", \"Time\": -0.1, \"Freq\": 6.0, \"Power\": 0.05508973744232814}, {\"Data Type\": \"move_rest\", \"Time\": -0.1, \"Freq\": 11.0, \"Power\": -1.1090708856970708}, {\"Data Type\": \"move_rest\", \"Time\": -0.1, \"Freq\": 16.0, \"Power\": -1.1988114858139076}, {\"Data Type\": \"move_rest\", \"Time\": -0.1, \"Freq\": 21.0, \"Power\": -1.2145917152883954}, {\"Data Type\": \"move_rest\", \"Time\": -0.1, \"Freq\": 26.0, \"Power\": -0.9140205787573431}, {\"Data Type\": \"move_rest\", \"Time\": -0.1, \"Freq\": 31.0, \"Power\": -0.5921038554114375}, {\"Data Type\": \"move_rest\", \"Time\": -0.1, \"Freq\": 36.0, \"Power\": -0.5784938750760621}, {\"Data Type\": \"move_rest\", \"Time\": -0.1, \"Freq\": 41.0, \"Power\": -0.9496541536047848}, {\"Data Type\": \"move_rest\", \"Time\": -0.1, \"Freq\": 46.0, \"Power\": -0.687756347332053}, {\"Data Type\": \"move_rest\", \"Time\": -0.1, \"Freq\": 51.0, \"Power\": -0.8826295349257909}, {\"Data Type\": \"move_rest\", \"Time\": -0.1, \"Freq\": 56.0, \"Power\": -0.5577593203291324}, {\"Data Type\": \"move_rest\", \"Time\": -0.1, \"Freq\": 61.0, \"Power\": -0.4021980629755698}, {\"Data Type\": \"move_rest\", \"Time\": -0.1, \"Freq\": 66.0, \"Power\": -0.3716741613368659}, {\"Data Type\": \"move_rest\", \"Time\": -0.1, \"Freq\": 71.0, \"Power\": -0.08504930712731683}, {\"Data Type\": \"move_rest\", \"Time\": -0.1, \"Freq\": 76.0, \"Power\": -0.4262847625756706}, {\"Data Type\": \"move_rest\", \"Time\": -0.1, \"Freq\": 81.0, \"Power\": -0.02947979448018998}, {\"Data Type\": \"move_rest\", \"Time\": -0.1, \"Freq\": 86.0, \"Power\": -0.40493324277433373}, {\"Data Type\": \"move_rest\", \"Time\": -0.1, \"Freq\": 91.0, \"Power\": -0.7868236091645807}, {\"Data Type\": \"move_rest\", \"Time\": -0.1, \"Freq\": 96.0, \"Power\": -0.32497093736829374}, {\"Data Type\": \"move_rest\", \"Time\": -0.1, \"Freq\": 101.0, \"Power\": -0.08915062407839117}, {\"Data Type\": \"move_rest\", \"Time\": -0.1, \"Freq\": 106.0, \"Power\": -0.23917584039787887}, {\"Data Type\": \"move_rest\", \"Time\": -0.1, \"Freq\": 111.0, \"Power\": -0.1703809340087967}, {\"Data Type\": \"move_rest\", \"Time\": -0.1, \"Freq\": 116.0, \"Power\": 0.5230407110020034}, {\"Data Type\": \"move_rest\", \"Time\": -0.1, \"Freq\": 121.0, \"Power\": 0.10028156470046004}, {\"Data Type\": \"move_rest\", \"Time\": 0.1, \"Freq\": 1.0, \"Power\": 0.9936439566437723}, {\"Data Type\": \"move_rest\", \"Time\": 0.1, \"Freq\": 6.0, \"Power\": 0.1441762246727251}, {\"Data Type\": \"move_rest\", \"Time\": 0.1, \"Freq\": 11.0, \"Power\": -1.0712695248450492}, {\"Data Type\": \"move_rest\", \"Time\": 0.1, \"Freq\": 16.0, \"Power\": -1.2723668176156706}, {\"Data Type\": \"move_rest\", \"Time\": 0.1, \"Freq\": 21.0, \"Power\": -1.7950389828898874}, {\"Data Type\": \"move_rest\", \"Time\": 0.1, \"Freq\": 26.0, \"Power\": -1.3235020295970172}, {\"Data Type\": \"move_rest\", \"Time\": 0.1, \"Freq\": 31.0, \"Power\": -0.9174617167164892}, {\"Data Type\": \"move_rest\", \"Time\": 0.1, \"Freq\": 36.0, \"Power\": -0.3167545887275007}, {\"Data Type\": \"move_rest\", \"Time\": 0.1, \"Freq\": 41.0, \"Power\": -0.21117501972318944}, {\"Data Type\": \"move_rest\", \"Time\": 0.1, \"Freq\": 46.0, \"Power\": -0.6561542288372777}, {\"Data Type\": \"move_rest\", \"Time\": 0.1, \"Freq\": 51.0, \"Power\": -0.2295089717534002}, {\"Data Type\": \"move_rest\", \"Time\": 0.1, \"Freq\": 56.0, \"Power\": -0.10494027795097338}, {\"Data Type\": \"move_rest\", \"Time\": 0.1, \"Freq\": 61.0, \"Power\": -0.06940824773177118}, {\"Data Type\": \"move_rest\", \"Time\": 0.1, \"Freq\": 66.0, \"Power\": -0.41162357672172617}, {\"Data Type\": \"move_rest\", \"Time\": 0.1, \"Freq\": 71.0, \"Power\": 0.40598245200431127}, {\"Data Type\": \"move_rest\", \"Time\": 0.1, \"Freq\": 76.0, \"Power\": -0.0038441424383250933}, {\"Data Type\": \"move_rest\", \"Time\": 0.1, \"Freq\": 81.0, \"Power\": -0.35200583709679734}, {\"Data Type\": \"move_rest\", \"Time\": 0.1, \"Freq\": 86.0, \"Power\": 0.11636239746159636}, {\"Data Type\": \"move_rest\", \"Time\": 0.1, \"Freq\": 91.0, \"Power\": 0.06621367351583937}, {\"Data Type\": \"move_rest\", \"Time\": 0.1, \"Freq\": 96.0, \"Power\": -0.18193512882393273}, {\"Data Type\": \"move_rest\", \"Time\": 0.1, \"Freq\": 101.0, \"Power\": -0.41988305199360715}, {\"Data Type\": \"move_rest\", \"Time\": 0.1, \"Freq\": 106.0, \"Power\": 0.05058364255621654}, {\"Data Type\": \"move_rest\", \"Time\": 0.1, \"Freq\": 111.0, \"Power\": 0.34112806041543897}, {\"Data Type\": \"move_rest\", \"Time\": 0.1, \"Freq\": 116.0, \"Power\": 0.22961669261840048}, {\"Data Type\": \"move_rest\", \"Time\": 0.1, \"Freq\": 121.0, \"Power\": 0.25264912396926603}, {\"Data Type\": \"move_rest\", \"Time\": 0.3, \"Freq\": 1.0, \"Power\": 0.43452363836800034}, {\"Data Type\": \"move_rest\", \"Time\": 0.3, \"Freq\": 6.0, \"Power\": 0.014935620641231632}, {\"Data Type\": \"move_rest\", \"Time\": 0.3, \"Freq\": 11.0, \"Power\": -1.017260227507783}, {\"Data Type\": \"move_rest\", \"Time\": 0.3, \"Freq\": 16.0, \"Power\": -1.5395602333980396}, {\"Data Type\": \"move_rest\", \"Time\": 0.3, \"Freq\": 21.0, \"Power\": -1.6168487213802374}, {\"Data Type\": \"move_rest\", \"Time\": 0.3, \"Freq\": 26.0, \"Power\": -1.3299245706665128}, {\"Data Type\": \"move_rest\", \"Time\": 0.3, \"Freq\": 31.0, \"Power\": -0.738072054562024}, {\"Data Type\": \"move_rest\", \"Time\": 0.3, \"Freq\": 36.0, \"Power\": -0.5472181067635508}, {\"Data Type\": \"move_rest\", \"Time\": 0.3, \"Freq\": 41.0, \"Power\": -0.6937828914107788}, {\"Data Type\": \"move_rest\", \"Time\": 0.3, \"Freq\": 46.0, \"Power\": -0.22670542099442248}, {\"Data Type\": \"move_rest\", \"Time\": 0.3, \"Freq\": 51.0, \"Power\": -0.7345982645123645}, {\"Data Type\": \"move_rest\", \"Time\": 0.3, \"Freq\": 56.0, \"Power\": -0.3749839616533232}, {\"Data Type\": \"move_rest\", \"Time\": 0.3, \"Freq\": 61.0, \"Power\": -0.13730968563602913}, {\"Data Type\": \"move_rest\", \"Time\": 0.3, \"Freq\": 66.0, \"Power\": 0.03676336327295834}, {\"Data Type\": \"move_rest\", \"Time\": 0.3, \"Freq\": 71.0, \"Power\": -0.09242190642258379}, {\"Data Type\": \"move_rest\", \"Time\": 0.3, \"Freq\": 76.0, \"Power\": -0.4474170225363376}, {\"Data Type\": \"move_rest\", \"Time\": 0.3, \"Freq\": 81.0, \"Power\": 0.06721542726705536}, {\"Data Type\": \"move_rest\", \"Time\": 0.3, \"Freq\": 86.0, \"Power\": 0.012544555992471373}, {\"Data Type\": \"move_rest\", \"Time\": 0.3, \"Freq\": 91.0, \"Power\": 0.17444553121842907}, {\"Data Type\": \"move_rest\", \"Time\": 0.3, \"Freq\": 96.0, \"Power\": 0.18663805594288665}, {\"Data Type\": \"move_rest\", \"Time\": 0.3, \"Freq\": 101.0, \"Power\": -0.06178691358006176}, {\"Data Type\": \"move_rest\", \"Time\": 0.3, \"Freq\": 106.0, \"Power\": -0.06955905666335221}, {\"Data Type\": \"move_rest\", \"Time\": 0.3, \"Freq\": 111.0, \"Power\": 0.15079600020700354}, {\"Data Type\": \"move_rest\", \"Time\": 0.3, \"Freq\": 116.0, \"Power\": -0.2949425519574485}, {\"Data Type\": \"move_rest\", \"Time\": 0.3, \"Freq\": 121.0, \"Power\": -0.12775359033145814}, {\"Data Type\": \"move_rest\", \"Time\": 0.5, \"Freq\": 1.0, \"Power\": 1.0287732353436525}, {\"Data Type\": \"move_rest\", \"Time\": 0.5, \"Freq\": 6.0, \"Power\": -0.0442505538661275}, {\"Data Type\": \"move_rest\", \"Time\": 0.5, \"Freq\": 11.0, \"Power\": -1.2557296415412793}, {\"Data Type\": \"move_rest\", \"Time\": 0.5, \"Freq\": 16.0, \"Power\": -1.6744667912304976}, {\"Data Type\": \"move_rest\", \"Time\": 0.5, \"Freq\": 21.0, \"Power\": -2.1131311928322836}, {\"Data Type\": \"move_rest\", \"Time\": 0.5, \"Freq\": 26.0, \"Power\": -1.3530841628717287}, {\"Data Type\": \"move_rest\", \"Time\": 0.5, \"Freq\": 31.0, \"Power\": -1.1207306992289319}, {\"Data Type\": \"move_rest\", \"Time\": 0.5, \"Freq\": 36.0, \"Power\": -0.6643335792010874}, {\"Data Type\": \"move_rest\", \"Time\": 0.5, \"Freq\": 41.0, \"Power\": 0.04192923519940545}, {\"Data Type\": \"move_rest\", \"Time\": 0.5, \"Freq\": 46.0, \"Power\": -0.3170940627814218}, {\"Data Type\": \"move_rest\", \"Time\": 0.5, \"Freq\": 51.0, \"Power\": 0.10648929270387555}, {\"Data Type\": \"move_rest\", \"Time\": 0.5, \"Freq\": 56.0, \"Power\": -0.25546352255670496}, {\"Data Type\": \"move_rest\", \"Time\": 0.5, \"Freq\": 61.0, \"Power\": -0.23424273693408867}, {\"Data Type\": \"move_rest\", \"Time\": 0.5, \"Freq\": 66.0, \"Power\": -0.29716865840218626}, {\"Data Type\": \"move_rest\", \"Time\": 0.5, \"Freq\": 71.0, \"Power\": -0.3378325139766626}, {\"Data Type\": \"move_rest\", \"Time\": 0.5, \"Freq\": 76.0, \"Power\": -0.24300724511193342}, {\"Data Type\": \"move_rest\", \"Time\": 0.5, \"Freq\": 81.0, \"Power\": -0.1803531111483598}, {\"Data Type\": \"move_rest\", \"Time\": 0.5, \"Freq\": 86.0, \"Power\": -0.09389727834651845}, {\"Data Type\": \"move_rest\", \"Time\": 0.5, \"Freq\": 91.0, \"Power\": -0.3469460310667093}, {\"Data Type\": \"move_rest\", \"Time\": 0.5, \"Freq\": 96.0, \"Power\": -0.08140941190281316}, {\"Data Type\": \"move_rest\", \"Time\": 0.5, \"Freq\": 101.0, \"Power\": 0.3235235319640888}, {\"Data Type\": \"move_rest\", \"Time\": 0.5, \"Freq\": 106.0, \"Power\": -0.07972149717439739}, {\"Data Type\": \"move_rest\", \"Time\": 0.5, \"Freq\": 111.0, \"Power\": -0.7901986419572922}, {\"Data Type\": \"move_rest\", \"Time\": 0.5, \"Freq\": 116.0, \"Power\": -0.3888680395377728}, {\"Data Type\": \"move_rest\", \"Time\": 0.5, \"Freq\": 121.0, \"Power\": -0.34424231937342803}, {\"Data Type\": \"move_rest\", \"Time\": 0.7, \"Freq\": 1.0, \"Power\": 0.24295796248102494}, {\"Data Type\": \"move_rest\", \"Time\": 0.7, \"Freq\": 6.0, \"Power\": -0.5531066443269784}, {\"Data Type\": \"move_rest\", \"Time\": 0.7, \"Freq\": 11.0, \"Power\": -1.365664046079409}, {\"Data Type\": \"move_rest\", \"Time\": 0.7, \"Freq\": 16.0, \"Power\": -1.1466164221985877}, {\"Data Type\": \"move_rest\", \"Time\": 0.7, \"Freq\": 21.0, \"Power\": -1.845997384984713}, {\"Data Type\": \"move_rest\", \"Time\": 0.7, \"Freq\": 26.0, \"Power\": -1.3667649432240372}, {\"Data Type\": \"move_rest\", \"Time\": 0.7, \"Freq\": 31.0, \"Power\": -0.7714800021011741}, {\"Data Type\": \"move_rest\", \"Time\": 0.7, \"Freq\": 36.0, \"Power\": -0.4848148308648689}, {\"Data Type\": \"move_rest\", \"Time\": 0.7, \"Freq\": 41.0, \"Power\": -0.6404554146277642}, {\"Data Type\": \"move_rest\", \"Time\": 0.7, \"Freq\": 46.0, \"Power\": 0.36128501877338787}, {\"Data Type\": \"move_rest\", \"Time\": 0.7, \"Freq\": 51.0, \"Power\": -0.09550977656989328}, {\"Data Type\": \"move_rest\", \"Time\": 0.7, \"Freq\": 56.0, \"Power\": 0.3312644819049183}, {\"Data Type\": \"move_rest\", \"Time\": 0.7, \"Freq\": 61.0, \"Power\": 0.1612437469643453}, {\"Data Type\": \"move_rest\", \"Time\": 0.7, \"Freq\": 66.0, \"Power\": -0.4069897047092468}, {\"Data Type\": \"move_rest\", \"Time\": 0.7, \"Freq\": 71.0, \"Power\": -0.14676861882295972}, {\"Data Type\": \"move_rest\", \"Time\": 0.7, \"Freq\": 76.0, \"Power\": 0.12018287063508808}, {\"Data Type\": \"move_rest\", \"Time\": 0.7, \"Freq\": 81.0, \"Power\": -0.07823691320359577}, {\"Data Type\": \"move_rest\", \"Time\": 0.7, \"Freq\": 86.0, \"Power\": 0.35853873938383457}, {\"Data Type\": \"move_rest\", \"Time\": 0.7, \"Freq\": 91.0, \"Power\": 0.1984520977586082}, {\"Data Type\": \"move_rest\", \"Time\": 0.7, \"Freq\": 96.0, \"Power\": 0.13159280740040913}, {\"Data Type\": \"move_rest\", \"Time\": 0.7, \"Freq\": 101.0, \"Power\": 0.016518835075424933}, {\"Data Type\": \"move_rest\", \"Time\": 0.7, \"Freq\": 106.0, \"Power\": -0.06140433669310805}, {\"Data Type\": \"move_rest\", \"Time\": 0.7, \"Freq\": 111.0, \"Power\": -0.005342415772799806}, {\"Data Type\": \"move_rest\", \"Time\": 0.7, \"Freq\": 116.0, \"Power\": -0.40530260866683343}, {\"Data Type\": \"move_rest\", \"Time\": 0.7, \"Freq\": 121.0, \"Power\": 0.10828640862845779}, {\"Data Type\": \"move_rest\", \"Time\": 0.9, \"Freq\": 1.0, \"Power\": -0.3238968348253593}, {\"Data Type\": \"move_rest\", \"Time\": 0.9, \"Freq\": 6.0, \"Power\": -1.3264459490727272}, {\"Data Type\": \"move_rest\", \"Time\": 0.9, \"Freq\": 11.0, \"Power\": -1.691952530736423}, {\"Data Type\": \"move_rest\", \"Time\": 0.9, \"Freq\": 16.0, \"Power\": -1.4957252176439606}, {\"Data Type\": \"move_rest\", \"Time\": 0.9, \"Freq\": 21.0, \"Power\": -1.5236060905689688}, {\"Data Type\": \"move_rest\", \"Time\": 0.9, \"Freq\": 26.0, \"Power\": -1.0812158721516103}, {\"Data Type\": \"move_rest\", \"Time\": 0.9, \"Freq\": 31.0, \"Power\": -0.6703315252126809}, {\"Data Type\": \"move_rest\", \"Time\": 0.9, \"Freq\": 36.0, \"Power\": -0.29694111623909125}, {\"Data Type\": \"move_rest\", \"Time\": 0.9, \"Freq\": 41.0, \"Power\": -0.34387120512760894}, {\"Data Type\": \"move_rest\", \"Time\": 0.9, \"Freq\": 46.0, \"Power\": -0.2496745868502245}, {\"Data Type\": \"move_rest\", \"Time\": 0.9, \"Freq\": 51.0, \"Power\": 0.32101726269613284}, {\"Data Type\": \"move_rest\", \"Time\": 0.9, \"Freq\": 56.0, \"Power\": -0.31172701732423036}, {\"Data Type\": \"move_rest\", \"Time\": 0.9, \"Freq\": 61.0, \"Power\": -0.2182084009017463}, {\"Data Type\": \"move_rest\", \"Time\": 0.9, \"Freq\": 66.0, \"Power\": -0.007866121777499301}, {\"Data Type\": \"move_rest\", \"Time\": 0.9, \"Freq\": 71.0, \"Power\": 0.14921958319983541}, {\"Data Type\": \"move_rest\", \"Time\": 0.9, \"Freq\": 76.0, \"Power\": -0.030505303950160587}, {\"Data Type\": \"move_rest\", \"Time\": 0.9, \"Freq\": 81.0, \"Power\": 0.2684759570532416}, {\"Data Type\": \"move_rest\", \"Time\": 0.9, \"Freq\": 86.0, \"Power\": -0.1704378677548855}, {\"Data Type\": \"move_rest\", \"Time\": 0.9, \"Freq\": 91.0, \"Power\": -0.37023983580985864}, {\"Data Type\": \"move_rest\", \"Time\": 0.9, \"Freq\": 96.0, \"Power\": 0.3200696210253369}, {\"Data Type\": \"move_rest\", \"Time\": 0.9, \"Freq\": 101.0, \"Power\": -0.16209943259243573}, {\"Data Type\": \"move_rest\", \"Time\": 0.9, \"Freq\": 106.0, \"Power\": -0.22647363801379092}, {\"Data Type\": \"move_rest\", \"Time\": 0.9, \"Freq\": 111.0, \"Power\": -0.20055009632325493}, {\"Data Type\": \"move_rest\", \"Time\": 0.9, \"Freq\": 116.0, \"Power\": 0.08190135391386662}, {\"Data Type\": \"move_rest\", \"Time\": 0.9, \"Freq\": 121.0, \"Power\": 0.2713540223888818}, {\"Data Type\": \"move_rest\", \"Time\": 1.1, \"Freq\": 1.0, \"Power\": -2.5387613431170943}, {\"Data Type\": \"move_rest\", \"Time\": 1.1, \"Freq\": 6.0, \"Power\": -2.4792318802409983}, {\"Data Type\": \"move_rest\", \"Time\": 1.1, \"Freq\": 11.0, \"Power\": -1.4028211287353238}, {\"Data Type\": \"move_rest\", \"Time\": 1.1, \"Freq\": 16.0, \"Power\": -0.763705397673588}, {\"Data Type\": \"move_rest\", \"Time\": 1.1, \"Freq\": 21.0, \"Power\": -0.4554227442140226}, {\"Data Type\": \"move_rest\", \"Time\": 1.1, \"Freq\": 26.0, \"Power\": -0.0661856011802153}, {\"Data Type\": \"move_rest\", \"Time\": 1.1, \"Freq\": 31.0, \"Power\": 0.11397258087795402}, {\"Data Type\": \"move_rest\", \"Time\": 1.1, \"Freq\": 36.0, \"Power\": -0.30024842252409106}, {\"Data Type\": \"move_rest\", \"Time\": 1.1, \"Freq\": 41.0, \"Power\": -0.030765247351820336}, {\"Data Type\": \"move_rest\", \"Time\": 1.1, \"Freq\": 46.0, \"Power\": 0.003620343882324543}, {\"Data Type\": \"move_rest\", \"Time\": 1.1, \"Freq\": 51.0, \"Power\": 0.27789887584056505}, {\"Data Type\": \"move_rest\", \"Time\": 1.1, \"Freq\": 56.0, \"Power\": -0.07174325631198807}, {\"Data Type\": \"move_rest\", \"Time\": 1.1, \"Freq\": 61.0, \"Power\": 0.3737104959047571}, {\"Data Type\": \"move_rest\", \"Time\": 1.1, \"Freq\": 66.0, \"Power\": 0.20296279656718166}, {\"Data Type\": \"move_rest\", \"Time\": 1.1, \"Freq\": 71.0, \"Power\": 0.31846537829985283}, {\"Data Type\": \"move_rest\", \"Time\": 1.1, \"Freq\": 76.0, \"Power\": 0.19801991498673127}, {\"Data Type\": \"move_rest\", \"Time\": 1.1, \"Freq\": 81.0, \"Power\": -0.19327022746501163}, {\"Data Type\": \"move_rest\", \"Time\": 1.1, \"Freq\": 86.0, \"Power\": -0.2834113927643083}, {\"Data Type\": \"move_rest\", \"Time\": 1.1, \"Freq\": 91.0, \"Power\": -0.5310238585946403}, {\"Data Type\": \"move_rest\", \"Time\": 1.1, \"Freq\": 96.0, \"Power\": 0.13872273779393632}, {\"Data Type\": \"move_rest\", \"Time\": 1.1, \"Freq\": 101.0, \"Power\": 0.03062075452623579}, {\"Data Type\": \"move_rest\", \"Time\": 1.1, \"Freq\": 106.0, \"Power\": -0.0791739150099924}, {\"Data Type\": \"move_rest\", \"Time\": 1.1, \"Freq\": 111.0, \"Power\": 0.06442702875530415}, {\"Data Type\": \"move_rest\", \"Time\": 1.1, \"Freq\": 116.0, \"Power\": 0.19965980609918954}, {\"Data Type\": \"move_rest\", \"Time\": 1.1, \"Freq\": 121.0, \"Power\": 0.42206916973652825}], \"data-fef468f6e7897979a81eb183ce12f38a\": [{\"x\": 0, \"Freq\": 0}, {\"x\": 0, \"Freq\": 20}, {\"x\": 0, \"Freq\": 40}, {\"x\": 0, \"Freq\": 60}, {\"x\": 0, \"Freq\": 80}, {\"x\": 0, \"Freq\": 100}, {\"x\": 0, \"Freq\": 120}]}}, {\"mode\": \"vega-lite\"});\n",
       "</script>"
      ],
      "text/plain": [
       "alt.LayerChart(...)"
      ]
     },
     "execution_count": 7,
     "metadata": {},
     "output_type": "execute_result"
    }
   ],
   "source": [
    "zero_x = [0 for i in range(7)]\n",
    "zero_y = list(range(0,121,20))\n",
    "zero_df = pd.DataFrame(list(zip(zero_x, zero_y)), columns=['x', 'Freq'] )\n",
    "zero_line = alt.Chart(zero_df).mark_line(color='black', strokeDash=[10,10]).encode(\n",
    "    alt.X('x', axis = alt.Axis(labels=False) , title ='movement initation'),\n",
    "    alt.Y('Freq', title='Frequency (Hz)', axis = alt.Axis(tickCount = 6, orient='left'))\n",
    ").properties(height=350,width=400)\n",
    "\n",
    "spec = alt.Chart(avg_sbj_power_df).mark_rect().encode(\n",
    "    alt.X('Time:O', title ='Time (s)'),\n",
    "    alt.Y('Freq:O', \n",
    "          sort = 'descending', \n",
    "          title = '',\n",
    "          axis = None\n",
    "         ),\n",
    "    alt.Color('Power:Q', \n",
    "              sort = 'descending', \n",
    "              scale = alt.Scale(scheme='redblue', domain=(-3,3) ))\n",
    ").properties(height=350,width=400, title=['Spectrogram of Brain Activity During Movement', 'Averaged Across Participants'])\n",
    "\n",
    "spec + zero_line"
   ]
  },
  {
   "cell_type": "code",
   "execution_count": null,
   "metadata": {},
   "outputs": [],
   "source": []
  }
 ],
 "metadata": {
  "kernelspec": {
   "display_name": "CSE481_ex",
   "language": "python",
   "name": "cse481_ex"
  },
  "language_info": {
   "codemirror_mode": {
    "name": "ipython",
    "version": 3
   },
   "file_extension": ".py",
   "mimetype": "text/x-python",
   "name": "python",
   "nbconvert_exporter": "python",
   "pygments_lexer": "ipython3",
   "version": "3.8.5"
  }
 },
 "nbformat": 4,
 "nbformat_minor": 4
}
